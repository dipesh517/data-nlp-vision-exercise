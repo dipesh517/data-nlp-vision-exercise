{
 "cells": [
  {
   "cell_type": "code",
   "execution_count": 1,
   "metadata": {},
   "outputs": [],
   "source": [
    "import pandas as pd \n",
    "import numpy as np"
   ]
  },
  {
   "cell_type": "code",
   "execution_count": 7,
   "metadata": {},
   "outputs": [],
   "source": [
    "import os \n",
    "\n",
    "work_dir = os.path.dirname(os.getcwd())\n",
    "data_dir = os.path.join(work_dir, 'data')\n",
    "output_dir = os.path.join(work_dir, 'output')"
   ]
  },
  {
   "cell_type": "code",
   "execution_count": 9,
   "metadata": {},
   "outputs": [],
   "source": [
    "df = pd.read_csv(os.path.join(output_dir, 'llm_results_analysis.csv'))"
   ]
  },
  {
   "cell_type": "code",
   "execution_count": 10,
   "metadata": {},
   "outputs": [
    {
     "data": {
      "text/html": [
       "<div>\n",
       "<style scoped>\n",
       "    .dataframe tbody tr th:only-of-type {\n",
       "        vertical-align: middle;\n",
       "    }\n",
       "\n",
       "    .dataframe tbody tr th {\n",
       "        vertical-align: top;\n",
       "    }\n",
       "\n",
       "    .dataframe thead th {\n",
       "        text-align: right;\n",
       "    }\n",
       "</style>\n",
       "<table border=\"1\" class=\"dataframe\">\n",
       "  <thead>\n",
       "    <tr style=\"text-align: right;\">\n",
       "      <th></th>\n",
       "      <th>id</th>\n",
       "      <th>voter_id</th>\n",
       "      <th>name</th>\n",
       "      <th>house_number</th>\n",
       "      <th>age</th>\n",
       "      <th>gender</th>\n",
       "      <th>parent_or_spouse_name_only</th>\n",
       "      <th>predicted_gender</th>\n",
       "      <th>is_correct</th>\n",
       "    </tr>\n",
       "  </thead>\n",
       "  <tbody>\n",
       "    <tr>\n",
       "      <th>0</th>\n",
       "      <td>53.0</td>\n",
       "      <td>TNH3526647</td>\n",
       "      <td>Noor Ayesha</td>\n",
       "      <td>454</td>\n",
       "      <td>25</td>\n",
       "      <td>FEMALE</td>\n",
       "      <td>Sab Jan</td>\n",
       "      <td>FEMALE</td>\n",
       "      <td>True</td>\n",
       "    </tr>\n",
       "    <tr>\n",
       "      <th>1</th>\n",
       "      <td>NaN</td>\n",
       "      <td>TNH3526639</td>\n",
       "      <td>Sab Jan</td>\n",
       "      <td>454</td>\n",
       "      <td>57</td>\n",
       "      <td>MALE</td>\n",
       "      <td>Peer Sab</td>\n",
       "      <td>MALE</td>\n",
       "      <td>True</td>\n",
       "    </tr>\n",
       "    <tr>\n",
       "      <th>2</th>\n",
       "      <td>54.0</td>\n",
       "      <td>TNH3657004</td>\n",
       "      <td>Anusuya Bai R</td>\n",
       "      <td>302</td>\n",
       "      <td>23</td>\n",
       "      <td>FEMALE</td>\n",
       "      <td>Narayan Rao V</td>\n",
       "      <td>FEMALE</td>\n",
       "      <td>True</td>\n",
       "    </tr>\n",
       "    <tr>\n",
       "      <th>3</th>\n",
       "      <td>50.0</td>\n",
       "      <td>TNH2587293</td>\n",
       "      <td>Venkataramu.G</td>\n",
       "      <td>170/</td>\n",
       "      <td>31</td>\n",
       "      <td>MALE</td>\n",
       "      <td>Late. Gurumurthy</td>\n",
       "      <td>MALE</td>\n",
       "      <td>True</td>\n",
       "    </tr>\n",
       "    <tr>\n",
       "      <th>4</th>\n",
       "      <td>49.0</td>\n",
       "      <td>TNH1000421</td>\n",
       "      <td>Mangalamma</td>\n",
       "      <td>170/</td>\n",
       "      <td>51</td>\n",
       "      <td>FEMALE</td>\n",
       "      <td>Late Guru Murthy</td>\n",
       "      <td>FEMALE</td>\n",
       "      <td>True</td>\n",
       "    </tr>\n",
       "    <tr>\n",
       "      <th>5</th>\n",
       "      <td>NaN</td>\n",
       "      <td>TNHO415489</td>\n",
       "      <td>Rekha</td>\n",
       "      <td>170</td>\n",
       "      <td>34</td>\n",
       "      <td>FEMALE</td>\n",
       "      <td>Kumar K</td>\n",
       "      <td>FEMALE</td>\n",
       "      <td>True</td>\n",
       "    </tr>\n",
       "    <tr>\n",
       "      <th>6</th>\n",
       "      <td>NaN</td>\n",
       "      <td>TNH2642809</td>\n",
       "      <td>Nagarathna</td>\n",
       "      <td>170</td>\n",
       "      <td>35</td>\n",
       "      <td>FEMALE</td>\n",
       "      <td>Kumar M</td>\n",
       "      <td>FEMALE</td>\n",
       "      <td>True</td>\n",
       "    </tr>\n",
       "    <tr>\n",
       "      <th>7</th>\n",
       "      <td>NaN</td>\n",
       "      <td>TNHO415679</td>\n",
       "      <td>Kumar K</td>\n",
       "      <td>170</td>\n",
       "      <td>40</td>\n",
       "      <td>MALE</td>\n",
       "      <td>Krishnappa T</td>\n",
       "      <td>MALE</td>\n",
       "      <td>True</td>\n",
       "    </tr>\n",
       "    <tr>\n",
       "      <th>8</th>\n",
       "      <td>NaN</td>\n",
       "      <td>TNH0657908</td>\n",
       "      <td>Kumar M</td>\n",
       "      <td>170</td>\n",
       "      <td>48</td>\n",
       "      <td>MALE</td>\n",
       "      <td>NaN</td>\n",
       "      <td>MALE</td>\n",
       "      <td>True</td>\n",
       "    </tr>\n",
       "    <tr>\n",
       "      <th>9</th>\n",
       "      <td>NaN</td>\n",
       "      <td>TNH2250280</td>\n",
       "      <td>Chikkathayamma</td>\n",
       "      <td>170</td>\n",
       "      <td>58</td>\n",
       "      <td>FEMALE</td>\n",
       "      <td>Krishnappa</td>\n",
       "      <td>FEMALE</td>\n",
       "      <td>True</td>\n",
       "    </tr>\n",
       "  </tbody>\n",
       "</table>\n",
       "</div>"
      ],
      "text/plain": [
       "     id    voter_id            name house_number  age  gender  \\\n",
       "0  53.0  TNH3526647     Noor Ayesha          454   25  FEMALE   \n",
       "1   NaN  TNH3526639         Sab Jan          454   57    MALE   \n",
       "2  54.0  TNH3657004   Anusuya Bai R          302   23  FEMALE   \n",
       "3  50.0  TNH2587293   Venkataramu.G         170/   31    MALE   \n",
       "4  49.0  TNH1000421      Mangalamma         170/   51  FEMALE   \n",
       "5   NaN  TNHO415489           Rekha          170   34  FEMALE   \n",
       "6   NaN  TNH2642809      Nagarathna          170   35  FEMALE   \n",
       "7   NaN  TNHO415679         Kumar K          170   40    MALE   \n",
       "8   NaN  TNH0657908         Kumar M          170   48    MALE   \n",
       "9   NaN  TNH2250280  Chikkathayamma          170   58  FEMALE   \n",
       "\n",
       "  parent_or_spouse_name_only predicted_gender  is_correct  \n",
       "0                    Sab Jan           FEMALE        True  \n",
       "1                   Peer Sab             MALE        True  \n",
       "2              Narayan Rao V           FEMALE        True  \n",
       "3           Late. Gurumurthy             MALE        True  \n",
       "4           Late Guru Murthy           FEMALE        True  \n",
       "5                    Kumar K           FEMALE        True  \n",
       "6                    Kumar M           FEMALE        True  \n",
       "7               Krishnappa T             MALE        True  \n",
       "8                        NaN             MALE        True  \n",
       "9                 Krishnappa           FEMALE        True  "
      ]
     },
     "execution_count": 10,
     "metadata": {},
     "output_type": "execute_result"
    }
   ],
   "source": [
    "df.head(10)"
   ]
  },
  {
   "cell_type": "code",
   "execution_count": 14,
   "metadata": {},
   "outputs": [
    {
     "data": {
      "text/plain": [
       "684"
      ]
     },
     "execution_count": 14,
     "metadata": {},
     "output_type": "execute_result"
    }
   ],
   "source": [
    "# Count of the number of times for which gender classification was done by llm\n",
    "df[df['predicted_gender'].isin(['MALE','FEMALE'])].shape[0]"
   ]
  },
  {
   "cell_type": "code",
   "execution_count": 17,
   "metadata": {},
   "outputs": [
    {
     "data": {
      "text/plain": [
       "604"
      ]
     },
     "execution_count": 17,
     "metadata": {},
     "output_type": "execute_result"
    }
   ],
   "source": [
    "# correct count\n",
    "df[df['predicted_gender'].isin(['MALE','FEMALE']) & df['is_correct'] == 1].shape[0]"
   ]
  },
  {
   "cell_type": "code",
   "execution_count": 19,
   "metadata": {},
   "outputs": [
    {
     "name": "stdout",
     "output_type": "stream",
     "text": [
      "Accuracy:  88.30409356725146\n"
     ]
    }
   ],
   "source": [
    "# Calculate the correct percentage\n",
    "print(\"Accuracy: \", df[df['predicted_gender'].isin(['MALE','FEMALE']) & df['is_correct'] == 1].shape[0] / df[df['predicted_gender'].isin(['MALE','FEMALE'])].shape[0] * 100)"
   ]
  }
 ],
 "metadata": {
  "kernelspec": {
   "display_name": "Python 3",
   "language": "python",
   "name": "python3"
  },
  "language_info": {
   "codemirror_mode": {
    "name": "ipython",
    "version": 3
   },
   "file_extension": ".py",
   "mimetype": "text/x-python",
   "name": "python",
   "nbconvert_exporter": "python",
   "pygments_lexer": "ipython3",
   "version": "3.8.18"
  },
  "orig_nbformat": 4
 },
 "nbformat": 4,
 "nbformat_minor": 2
}
