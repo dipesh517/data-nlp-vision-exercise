{
 "cells": [
  {
   "cell_type": "code",
   "execution_count": 26,
   "metadata": {},
   "outputs": [],
   "source": [
    "import pandas as pd \n",
    "import numpy as np"
   ]
  },
  {
   "cell_type": "code",
   "execution_count": 27,
   "metadata": {},
   "outputs": [],
   "source": [
    "import os \n",
    "\n",
    "work_dir = os.path.dirname(os.getcwd())\n",
    "data_dir = os.path.join(work_dir, 'data')\n",
    "output_dir = os.path.join(work_dir, 'output')"
   ]
  },
  {
   "cell_type": "code",
   "execution_count": 28,
   "metadata": {},
   "outputs": [],
   "source": [
    "df = pd.read_csv(os.path.join(output_dir, 'llm_results_analysis.csv'), sep=';')"
   ]
  },
  {
   "cell_type": "code",
   "execution_count": 29,
   "metadata": {},
   "outputs": [
    {
     "data": {
      "text/html": [
       "<div>\n",
       "<style scoped>\n",
       "    .dataframe tbody tr th:only-of-type {\n",
       "        vertical-align: middle;\n",
       "    }\n",
       "\n",
       "    .dataframe tbody tr th {\n",
       "        vertical-align: top;\n",
       "    }\n",
       "\n",
       "    .dataframe thead th {\n",
       "        text-align: right;\n",
       "    }\n",
       "</style>\n",
       "<table border=\"1\" class=\"dataframe\">\n",
       "  <thead>\n",
       "    <tr style=\"text-align: right;\">\n",
       "      <th></th>\n",
       "      <th>id</th>\n",
       "      <th>voter_id</th>\n",
       "      <th>name</th>\n",
       "      <th>house_number</th>\n",
       "      <th>age</th>\n",
       "      <th>gender</th>\n",
       "      <th>parent_or_spouse_name_only</th>\n",
       "      <th>predicted_gender</th>\n",
       "      <th>is_correct</th>\n",
       "    </tr>\n",
       "  </thead>\n",
       "  <tbody>\n",
       "    <tr>\n",
       "      <th>0</th>\n",
       "      <td>20.0</td>\n",
       "      <td>TNH3552262</td>\n",
       "      <td>Jtender Kumar Singh K</td>\n",
       "      <td>46</td>\n",
       "      <td>66.0</td>\n",
       "      <td>MALE</td>\n",
       "      <td>Rajkumar Singh</td>\n",
       "      <td>MALE</td>\n",
       "      <td>True</td>\n",
       "    </tr>\n",
       "    <tr>\n",
       "      <th>1</th>\n",
       "      <td>8.0</td>\n",
       "      <td>TNH3421906</td>\n",
       "      <td>Aslam Uddin</td>\n",
       "      <td>18</td>\n",
       "      <td>28.0</td>\n",
       "      <td>MALE</td>\n",
       "      <td>Bodrul Hoque</td>\n",
       "      <td>MALE</td>\n",
       "      <td>True</td>\n",
       "    </tr>\n",
       "    <tr>\n",
       "      <th>2</th>\n",
       "      <td>28.0</td>\n",
       "      <td>TNH3421898</td>\n",
       "      <td>Romij Uddin Choudhary</td>\n",
       "      <td>18</td>\n",
       "      <td>32.0</td>\n",
       "      <td>MALE</td>\n",
       "      <td>Junab Ali Choudary</td>\n",
       "      <td>MALE</td>\n",
       "      <td>True</td>\n",
       "    </tr>\n",
       "    <tr>\n",
       "      <th>3</th>\n",
       "      <td>NaN</td>\n",
       "      <td>TNH2625077</td>\n",
       "      <td>Suma B</td>\n",
       "      <td>17/B</td>\n",
       "      <td>34.0</td>\n",
       "      <td>FEMALE</td>\n",
       "      <td>Late Vishnu Bahaddur</td>\n",
       "      <td>FEMALE</td>\n",
       "      <td>True</td>\n",
       "    </tr>\n",
       "    <tr>\n",
       "      <th>4</th>\n",
       "      <td>NaN</td>\n",
       "      <td>TNH2625085</td>\n",
       "      <td>Sharadamma</td>\n",
       "      <td>17 B</td>\n",
       "      <td>55.0</td>\n",
       "      <td>FEMALE</td>\n",
       "      <td>Late Vishnu</td>\n",
       "      <td>FEMALE</td>\n",
       "      <td>True</td>\n",
       "    </tr>\n",
       "    <tr>\n",
       "      <th>5</th>\n",
       "      <td>NaN</td>\n",
       "      <td>TNH2625085</td>\n",
       "      <td>Sharadamma</td>\n",
       "      <td>17 B</td>\n",
       "      <td>55.0</td>\n",
       "      <td>FEMALE</td>\n",
       "      <td>Late Vishnu</td>\n",
       "      <td>FEMALE</td>\n",
       "      <td>True</td>\n",
       "    </tr>\n",
       "    <tr>\n",
       "      <th>6</th>\n",
       "      <td>NaN</td>\n",
       "      <td>TNH2625085</td>\n",
       "      <td>Sharadamma</td>\n",
       "      <td>17 B</td>\n",
       "      <td>55.0</td>\n",
       "      <td>FEMALE</td>\n",
       "      <td>Late Vishnu</td>\n",
       "      <td>FEMALE</td>\n",
       "      <td>True</td>\n",
       "    </tr>\n",
       "    <tr>\n",
       "      <th>7</th>\n",
       "      <td>NaN</td>\n",
       "      <td>TNH3874401</td>\n",
       "      <td>Kauser Fathima</td>\n",
       "      <td>No 14/2 ‘1st Floor</td>\n",
       "      <td>41.0</td>\n",
       "      <td>FEMALE</td>\n",
       "      <td>Faziur Reheman</td>\n",
       "      <td>FEMALE</td>\n",
       "      <td>True</td>\n",
       "    </tr>\n",
       "    <tr>\n",
       "      <th>8</th>\n",
       "      <td>NaN</td>\n",
       "      <td>TNH3518768</td>\n",
       "      <td>Huda Fathima</td>\n",
       "      <td>14/3</td>\n",
       "      <td>25.0</td>\n",
       "      <td>FEMALE</td>\n",
       "      <td>Mohammed Afzal</td>\n",
       "      <td>FEMALE</td>\n",
       "      <td>True</td>\n",
       "    </tr>\n",
       "    <tr>\n",
       "      <th>9</th>\n",
       "      <td>23.0</td>\n",
       "      <td>TNH3508488</td>\n",
       "      <td>Mohammed Mahabubunnisa</td>\n",
       "      <td>14/2</td>\n",
       "      <td>43.0</td>\n",
       "      <td>FEMALE</td>\n",
       "      <td>Shaik Abdul Basha</td>\n",
       "      <td>FEMALE</td>\n",
       "      <td>True</td>\n",
       "    </tr>\n",
       "  </tbody>\n",
       "</table>\n",
       "</div>"
      ],
      "text/plain": [
       "     id    voter_id                    name        house_number   age  gender  \\\n",
       "0  20.0  TNH3552262   Jtender Kumar Singh K                  46  66.0    MALE   \n",
       "1   8.0  TNH3421906             Aslam Uddin                  18  28.0    MALE   \n",
       "2  28.0  TNH3421898   Romij Uddin Choudhary                  18  32.0    MALE   \n",
       "3   NaN  TNH2625077                  Suma B                17/B  34.0  FEMALE   \n",
       "4   NaN  TNH2625085              Sharadamma                17 B  55.0  FEMALE   \n",
       "5   NaN  TNH2625085              Sharadamma                17 B  55.0  FEMALE   \n",
       "6   NaN  TNH2625085              Sharadamma                17 B  55.0  FEMALE   \n",
       "7   NaN  TNH3874401          Kauser Fathima  No 14/2 ‘1st Floor  41.0  FEMALE   \n",
       "8   NaN  TNH3518768            Huda Fathima                14/3  25.0  FEMALE   \n",
       "9  23.0  TNH3508488  Mohammed Mahabubunnisa                14/2  43.0  FEMALE   \n",
       "\n",
       "  parent_or_spouse_name_only predicted_gender  is_correct  \n",
       "0             Rajkumar Singh             MALE        True  \n",
       "1               Bodrul Hoque             MALE        True  \n",
       "2         Junab Ali Choudary             MALE        True  \n",
       "3       Late Vishnu Bahaddur           FEMALE        True  \n",
       "4                Late Vishnu           FEMALE        True  \n",
       "5                Late Vishnu           FEMALE        True  \n",
       "6                Late Vishnu           FEMALE        True  \n",
       "7             Faziur Reheman           FEMALE        True  \n",
       "8             Mohammed Afzal           FEMALE        True  \n",
       "9          Shaik Abdul Basha           FEMALE        True  "
      ]
     },
     "execution_count": 29,
     "metadata": {},
     "output_type": "execute_result"
    }
   ],
   "source": [
    "df.head(10)"
   ]
  },
  {
   "cell_type": "code",
   "execution_count": 30,
   "metadata": {},
   "outputs": [
    {
     "data": {
      "text/plain": [
       "712"
      ]
     },
     "execution_count": 30,
     "metadata": {},
     "output_type": "execute_result"
    }
   ],
   "source": [
    "# Count of the number of times for which gender classification was done by llm\n",
    "df[df['predicted_gender'].isin(['MALE','FEMALE'])].shape[0]"
   ]
  },
  {
   "cell_type": "code",
   "execution_count": 31,
   "metadata": {},
   "outputs": [
    {
     "data": {
      "text/plain": [
       "672"
      ]
     },
     "execution_count": 31,
     "metadata": {},
     "output_type": "execute_result"
    }
   ],
   "source": [
    "# correct count\n",
    "df[df['predicted_gender'].isin(['MALE','FEMALE']) & df['is_correct'] == 1].shape[0]"
   ]
  },
  {
   "cell_type": "code",
   "execution_count": 32,
   "metadata": {},
   "outputs": [
    {
     "name": "stdout",
     "output_type": "stream",
     "text": [
      "Accuracy:  94.3820224719101\n"
     ]
    }
   ],
   "source": [
    "# Calculate the correct percentage\n",
    "print(\"Accuracy: \", df[df['predicted_gender'].isin(['MALE','FEMALE']) & df['is_correct'] == 1].shape[0] / df[df['predicted_gender'].isin(['MALE','FEMALE'])].shape[0] * 100)"
   ]
  },
  {
   "cell_type": "markdown",
   "metadata": {},
   "source": [
    "Accuracy comparing it with llm parser increased to 94 percentage from 88 percentage."
   ]
  }
 ],
 "metadata": {
  "kernelspec": {
   "display_name": "Python 3",
   "language": "python",
   "name": "python3"
  },
  "language_info": {
   "codemirror_mode": {
    "name": "ipython",
    "version": 3
   },
   "file_extension": ".py",
   "mimetype": "text/x-python",
   "name": "python",
   "nbconvert_exporter": "python",
   "pygments_lexer": "ipython3",
   "version": "3.8.18"
  },
  "orig_nbformat": 4
 },
 "nbformat": 4,
 "nbformat_minor": 2
}
