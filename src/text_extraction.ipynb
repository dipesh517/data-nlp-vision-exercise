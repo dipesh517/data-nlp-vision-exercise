{
 "cells": [
  {
   "cell_type": "code",
   "execution_count": 4,
   "metadata": {},
   "outputs": [
    {
     "name": "stdout",
     "output_type": "stream",
     "text": [
      "Requirement already satisfied: pdfplumber in ./env/lib/python3.8/site-packages (0.10.3)\n",
      "Requirement already satisfied: pdfminer.six==20221105 in ./env/lib/python3.8/site-packages (from pdfplumber) (20221105)\n",
      "Requirement already satisfied: Pillow>=9.1 in ./env/lib/python3.8/site-packages (from pdfplumber) (10.1.0)\n",
      "Requirement already satisfied: pypdfium2>=4.18.0 in ./env/lib/python3.8/site-packages (from pdfplumber) (4.22.0)\n",
      "Requirement already satisfied: charset-normalizer>=2.0.0 in ./env/lib/python3.8/site-packages (from pdfminer.six==20221105->pdfplumber) (3.3.1)\n",
      "Requirement already satisfied: cryptography>=36.0.0 in ./env/lib/python3.8/site-packages (from pdfminer.six==20221105->pdfplumber) (41.0.5)\n",
      "Requirement already satisfied: cffi>=1.12 in ./env/lib/python3.8/site-packages (from cryptography>=36.0.0->pdfminer.six==20221105->pdfplumber) (1.16.0)\n",
      "Requirement already satisfied: pycparser in ./env/lib/python3.8/site-packages (from cffi>=1.12->cryptography>=36.0.0->pdfminer.six==20221105->pdfplumber) (2.21)\n"
     ]
    }
   ],
   "source": [
    "!pip install pdfplumber"
   ]
  },
  {
   "cell_type": "code",
   "execution_count": 5,
   "metadata": {},
   "outputs": [
    {
     "data": {
      "text/plain": [
       "'No text found on page 3.'"
      ]
     },
     "execution_count": 5,
     "metadata": {},
     "output_type": "execute_result"
    }
   ],
   "source": [
    "import pdfplumber\n",
    "\n",
    "file_path = 'data/electoral_rolls.pdf'\n",
    "\n",
    "# Load PDF with pdfplumber\n",
    "with pdfplumber.open(file_path) as pdf:\n",
    "    # Extract text from the third page (indexing starts from 0)\n",
    "    page = pdf.pages[2]  # Third page\n",
    "    text = page.extract_text()\n",
    "\n",
    "# Return the extracted text for analysis\n",
    "extracted_text = text if text else \"No text found on page 3.\"\n",
    "extracted_text"
   ]
  },
  {
   "cell_type": "markdown",
   "metadata": {},
   "source": [
    "Extract text using pdfminer"
   ]
  },
  {
   "cell_type": "code",
   "execution_count": 7,
   "metadata": {},
   "outputs": [
    {
     "name": "stdout",
     "output_type": "stream",
     "text": [
      "Requirement already satisfied: pdfminer.six in ./env/lib/python3.8/site-packages (20221105)\n",
      "Requirement already satisfied: charset-normalizer>=2.0.0 in ./env/lib/python3.8/site-packages (from pdfminer.six) (3.3.1)\n",
      "Requirement already satisfied: cryptography>=36.0.0 in ./env/lib/python3.8/site-packages (from pdfminer.six) (41.0.5)\n",
      "Requirement already satisfied: cffi>=1.12 in ./env/lib/python3.8/site-packages (from cryptography>=36.0.0->pdfminer.six) (1.16.0)\n",
      "Requirement already satisfied: pycparser in ./env/lib/python3.8/site-packages (from cffi>=1.12->cryptography>=36.0.0->pdfminer.six) (2.21)\n"
     ]
    }
   ],
   "source": [
    "!pip install pdfminer.six"
   ]
  },
  {
   "cell_type": "code",
   "execution_count": 8,
   "metadata": {},
   "outputs": [
    {
     "data": {
      "text/plain": [
       "'\\x0c'"
      ]
     },
     "execution_count": 8,
     "metadata": {},
     "output_type": "execute_result"
    }
   ],
   "source": [
    "# Re-initializing components for PDF processing to read a specific page\n",
    "from pdfminer.pdfparser import PDFParser\n",
    "from pdfminer.pdfdocument import PDFDocument\n",
    "from pdfminer.pdfinterp import PDFResourceManager, PDFPageInterpreter\n",
    "from pdfminer.pdfpage import PDFPage\n",
    "from pdfminer.layout import LAParams\n",
    "from pdfminer.converter import TextConverter\n",
    "from io import StringIO\n",
    "\n",
    "output_string_page3 = StringIO()\n",
    "with open(file_path, 'rb') as file:\n",
    "    parser = PDFParser(file)\n",
    "    doc = PDFDocument(parser)\n",
    "    rsrcmgr = PDFResourceManager()\n",
    "    device = TextConverter(rsrcmgr, output_string_page3, laparams=LAParams())\n",
    "    interpreter = PDFPageInterpreter(rsrcmgr, device)\n",
    "\n",
    "    # Process only the third page\n",
    "    for page_number, page in enumerate(PDFPage.create_pages(doc)):\n",
    "        if page_number == 5:  # page_number is zero-based so 2 is the third page\n",
    "            interpreter.process_page(page)\n",
    "            break  # Stop after processing the third page\n",
    "\n",
    "    # Close the PDF file\n",
    "    device.close()\n",
    "\n",
    "# Get the text data from the third page of the PDF\n",
    "pdf_text_page3 = output_string_page3.getvalue()\n",
    "\n",
    "# We'll return the text for analysis (considering the length to ensure it's readable)\n",
    "sample_text_page3 = pdf_text_page3\n",
    "sample_text_page3\n"
   ]
  },
  {
   "cell_type": "code",
   "execution_count": null,
   "metadata": {},
   "outputs": [],
   "source": []
  }
 ],
 "metadata": {
  "kernelspec": {
   "display_name": "Python 3",
   "language": "python",
   "name": "python3"
  },
  "language_info": {
   "codemirror_mode": {
    "name": "ipython",
    "version": 3
   },
   "file_extension": ".py",
   "mimetype": "text/x-python",
   "name": "python",
   "nbconvert_exporter": "python",
   "pygments_lexer": "ipython3",
   "version": "3.8.18"
  },
  "orig_nbformat": 4
 },
 "nbformat": 4,
 "nbformat_minor": 2
}
